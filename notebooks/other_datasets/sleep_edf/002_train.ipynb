{
 "cells": [
  {
   "cell_type": "code",
   "execution_count": 1,
   "metadata": {},
   "outputs": [],
   "source": [
    "import mne\n",
    "from mne.io import concatenate_raws, read_raw_edf\n",
    "import glob"
   ]
  },
  {
   "cell_type": "code",
   "execution_count": 2,
   "metadata": {},
   "outputs": [],
   "source": [
    "from sklearn.pipeline import Pipeline\n",
    "from sklearn.model_selection import GridSearchCV, ShuffleSplit\n",
    "from sklearn.ensemble import RandomForestClassifier, GradientBoostingClassifier\n",
    "from sklearn.linear_model import LogisticRegression\n",
    "from sklearn.svm import SVC\n",
    "from sklearn.neighbors import KNeighborsClassifier\n",
    "from sklearn.neural_network import MLPClassifier\n",
    "from sklearn.discriminant_analysis import LinearDiscriminantAnalysis\n",
    "from mne.decoding import CSP\n",
    "from sklearn.preprocessing import LabelEncoder\n",
    "\n",
    "from mne.decoding import (\n",
    "    CSP,\n",
    ")\n",
    "import numpy as np\n",
    "\n",
    "from xgboost.sklearn import XGBClassifier\n",
    "from sklearn.tree import DecisionTreeClassifier"
   ]
  },
  {
   "cell_type": "code",
   "execution_count": 3,
   "metadata": {},
   "outputs": [],
   "source": [
    "subjects = [1]\n",
    "recordings = [1,1]"
   ]
  },
  {
   "cell_type": "code",
   "execution_count": 4,
   "metadata": {},
   "outputs": [],
   "source": [
    "def get_data(subject=1):\n",
    "    # pad with 0 if < len() == 2\n",
    "    subject = f\"{subject:02d}\"\n",
    "    to_exclude = {'EOG horizontal': 'eog', 'Resp oro-nasal': 'misc', 'EMG submental': 'misc', 'Temp rectal': 'misc', 'Event marker': 'misc'}\n",
    "    files_data = glob.glob(f'./files/SC4{subject}*-PSG.edf')\n",
    "    files_anot = glob.glob(f'./files/SC4{subject}*-Hypn*.edf')\n",
    "    raws = []\n",
    "\n",
    "    if len(files_data) != len(files_anot):\n",
    "        raise ValueError('Number of PSG and Hypnogram files do not match.')\n",
    "\n",
    "    if len(files_data) == 0:\n",
    "        raise ValueError('No PSG or Hypnogram files found.')\n",
    "    \n",
    "    for i in range(1):\n",
    "        raw = read_raw_edf(files_data[i], exclude=to_exclude, preload=True)\n",
    "        annot = mne.read_annotations(files_anot[i])\n",
    "        raw.set_annotations(annot, emit_warning=False)\n",
    "        raws.append(raw)\n",
    "\n",
    "    raws = concatenate_raws(raws)\n",
    "    return raws"
   ]
  },
  {
   "cell_type": "code",
   "execution_count": 5,
   "metadata": {},
   "outputs": [
    {
     "name": "stdout",
     "output_type": "stream",
     "text": [
      "Extracting EDF parameters from /Users/owalid/42/post_intership/total-perspective-vortex/notebooks/other_datasets/sleep_edf/files/SC4011E0-PSG.edf...\n",
      "EDF file detected\n",
      "Setting channel info structure...\n",
      "Creating raw.info structure...\n"
     ]
    },
    {
     "name": "stdout",
     "output_type": "stream",
     "text": [
      "Reading 0 ... 8405999  =      0.000 ... 84059.990 secs...\n"
     ]
    }
   ],
   "source": [
    "raw = get_data(subject=1)"
   ]
  },
  {
   "cell_type": "code",
   "execution_count": 7,
   "metadata": {},
   "outputs": [
    {
     "name": "stdout",
     "output_type": "stream",
     "text": [
      "Filtering raw data in 1 contiguous segment\n",
      "Setting up band-pass filter from 8 - 30 Hz\n",
      "\n",
      "FIR filter parameters\n",
      "---------------------\n",
      "Designing a one-pass, zero-phase, non-causal bandpass filter:\n",
      "- Windowed time-domain design (firwin) method\n",
      "- Hamming window with 0.0194 passband ripple and 53 dB stopband attenuation\n",
      "- Lower passband edge: 8.00\n",
      "- Lower transition bandwidth: 2.00 Hz (-6 dB cutoff frequency: 7.00 Hz)\n",
      "- Upper passband edge: 30.00 Hz\n",
      "- Upper transition bandwidth: 7.50 Hz (-6 dB cutoff frequency: 33.75 Hz)\n",
      "- Filter length: 165 samples (1.650 sec)\n",
      "\n"
     ]
    },
    {
     "name": "stderr",
     "output_type": "stream",
     "text": [
      "[Parallel(n_jobs=1)]: Using backend SequentialBackend with 1 concurrent workers.\n",
      "[Parallel(n_jobs=1)]: Done   1 out of   1 | elapsed:    0.5s remaining:    0.0s\n"
     ]
    },
    {
     "name": "stdout",
     "output_type": "stream",
     "text": [
      "Used Annotations descriptions: ['Sleep stage 1', 'Sleep stage 2', 'Sleep stage 3', 'Sleep stage 4', 'Sleep stage ?', 'Sleep stage R', 'Sleep stage W']\n"
     ]
    },
    {
     "name": "stderr",
     "output_type": "stream",
     "text": [
      "[Parallel(n_jobs=1)]: Done   2 out of   2 | elapsed:    0.9s remaining:    0.0s\n",
      "[Parallel(n_jobs=1)]: Done   2 out of   2 | elapsed:    0.9s finished\n"
     ]
    }
   ],
   "source": [
    "# Band-pass filter keep only alpha and beta waves\n",
    "low_cutoff = 8\n",
    "high_cutoff = 30\n",
    "raw.filter(low_cutoff, high_cutoff, fir_design='firwin')\n",
    "\n",
    "events, event_dict = mne.events_from_annotations(raw)"
   ]
  },
  {
   "cell_type": "code",
   "execution_count": 8,
   "metadata": {},
   "outputs": [
    {
     "data": {
      "text/plain": [
       "{'Sleep stage 1': 1,\n",
       " 'Sleep stage 2': 2,\n",
       " 'Sleep stage 3': 3,\n",
       " 'Sleep stage 4': 4,\n",
       " 'Sleep stage ?': 5,\n",
       " 'Sleep stage R': 6,\n",
       " 'Sleep stage W': 7}"
      ]
     },
     "execution_count": 8,
     "metadata": {},
     "output_type": "execute_result"
    }
   ],
   "source": [
    "event_dict"
   ]
  },
  {
   "cell_type": "code",
   "execution_count": 11,
   "metadata": {},
   "outputs": [
    {
     "data": {
      "text/html": [
       "<table class=\"table table-hover table-striped table-sm table-responsive small\">\n",
       "    <tr>\n",
       "        <th>Measurement date</th>\n",
       "        \n",
       "        <td>March 29, 1989  16:49:00 GMT</td>\n",
       "        \n",
       "    </tr>\n",
       "    <tr>\n",
       "        <th>Experimenter</th>\n",
       "        \n",
       "        <td>Unknown</td>\n",
       "        \n",
       "    </tr>\n",
       "        <th>Participant</th>\n",
       "        \n",
       "        <td>Unknown</td>\n",
       "        \n",
       "    </tr>\n",
       "    <tr>\n",
       "        <th>Digitized points</th>\n",
       "        \n",
       "        <td>Not available</td>\n",
       "        \n",
       "    </tr>\n",
       "    <tr>\n",
       "        <th>Good channels</th>\n",
       "        <td>2 EEG</td>\n",
       "    </tr>\n",
       "    <tr>\n",
       "        <th>Bad channels</th>\n",
       "        <td>None</td>\n",
       "    </tr>\n",
       "    <tr>\n",
       "        <th>EOG channels</th>\n",
       "        <td>Not available</td>\n",
       "    </tr>\n",
       "    <tr>\n",
       "        <th>ECG channels</th>\n",
       "        <td>Not available</td>\n",
       "    \n",
       "    <tr>\n",
       "        <th>Sampling frequency</th>\n",
       "        <td>100.00 Hz</td>\n",
       "    </tr>\n",
       "    \n",
       "    \n",
       "    <tr>\n",
       "        <th>Highpass</th>\n",
       "        <td>8.00 Hz</td>\n",
       "    </tr>\n",
       "    \n",
       "    \n",
       "    <tr>\n",
       "        <th>Lowpass</th>\n",
       "        <td>30.00 Hz</td>\n",
       "    </tr>\n",
       "    \n",
       "    \n",
       "    \n",
       "    <tr>\n",
       "        <th>Filenames</th>\n",
       "        <td>SC4011E0-PSG.edf</td>\n",
       "    </tr>\n",
       "    \n",
       "    <tr>\n",
       "        <th>Duration</th>\n",
       "        <td>23:20:60 (HH:MM:SS)</td>\n",
       "    </tr>\n",
       "</table>"
      ],
      "text/plain": [
       "<RawEDF | SC4011E0-PSG.edf, 2 x 8406000 (84060.0 s), ~128.3 MB, data loaded>"
      ]
     },
     "execution_count": 11,
     "metadata": {},
     "output_type": "execute_result"
    }
   ],
   "source": [
    "new_labels_events = {\n",
    "    1: 'sleep_1',\n",
    "    2: 'sleep_2',\n",
    "    3: 'sleep_3',\n",
    "    4: 'sleep_4',\n",
    "    5: 'sleep_?',\n",
    "    6: 'sleep_REM',\n",
    "    7: 'sleep_WAKE',\n",
    "}\n",
    "\n",
    "new_annot = mne.annotations_from_events(events, event_desc=new_labels_events, sfreq=raw.info['sfreq'])\n",
    "raw.set_annotations(new_annot)"
   ]
  },
  {
   "cell_type": "code",
   "execution_count": 12,
   "metadata": {},
   "outputs": [
    {
     "name": "stdout",
     "output_type": "stream",
     "text": [
      "Used Annotations descriptions: ['sleep_1', 'sleep_2', 'sleep_3', 'sleep_4', 'sleep_?', 'sleep_REM', 'sleep_WAKE']\n"
     ]
    },
    {
     "data": {
      "text/plain": [
       "{'sleep_1': 1,\n",
       " 'sleep_2': 2,\n",
       " 'sleep_3': 3,\n",
       " 'sleep_4': 4,\n",
       " 'sleep_?': 5,\n",
       " 'sleep_REM': 6,\n",
       " 'sleep_WAKE': 7}"
      ]
     },
     "execution_count": 12,
     "metadata": {},
     "output_type": "execute_result"
    }
   ],
   "source": [
    "events, event_dict = mne.events_from_annotations(raw)\n",
    "event_dict"
   ]
  },
  {
   "cell_type": "markdown",
   "metadata": {},
   "source": [
    "0 => N1: light sleep\n",
    "\n",
    "1 => N2: deeper sleep\n",
    "\n",
    "2 => N3: deep sleep\n",
    "\n",
    "3 => N4: deep sleep\n",
    "\n",
    "4 => N5: unknown\n",
    "\n",
    "5 => R: rapid eye movement\n",
    "\n",
    "6 => W: wakefulness"
   ]
  },
  {
   "cell_type": "code",
   "execution_count": 15,
   "metadata": {},
   "outputs": [],
   "source": [
    "events_to_select = {\n",
    "    'sleep_1': 1,\n",
    "    'sleep_2': 2,\n",
    "    'sleep_3': 3,\n",
    "    'sleep_4': 4,\n",
    "    'sleep_REM': 6,\n",
    "    'sleep_WAKE': 7,\n",
    "}\n",
    "# remove unknown stages"
   ]
  },
  {
   "cell_type": "code",
   "execution_count": 16,
   "metadata": {},
   "outputs": [
    {
     "name": "stdout",
     "output_type": "stream",
     "text": [
      "Not setting metadata\n",
      "125 matching events found\n",
      "Setting baseline interval to [-0.5, 0.0] sec\n",
      "Applying baseline correction (mode: mean)\n",
      "0 projection items activated\n",
      "Using data from preloaded Raw for 125 events and 101 original time points ...\n",
      "1 bad epochs dropped\n"
     ]
    }
   ],
   "source": [
    "epochs = mne.Epochs(raw, events, event_id=events_to_select, tmin=-0.5, tmax=0.5, preload=True)"
   ]
  },
  {
   "cell_type": "code",
   "execution_count": 21,
   "metadata": {},
   "outputs": [
    {
     "data": {
      "text/plain": [
       "array([0, 1, 0, 1, 0, 6, 0, 1, 0, 6, 0, 1, 2, 1, 2, 1, 2, 3, 2, 3, 2, 3,\n",
       "       2, 3, 2, 3, 2, 1, 6, 0, 1, 6, 0, 1, 6, 0, 1, 0, 1, 5, 1, 2, 1, 2,\n",
       "       1, 2, 3, 2, 3, 1, 0, 1, 0, 1, 0, 6, 0, 6, 0, 1, 6, 0, 6, 0, 6, 0,\n",
       "       6, 0, 1, 0, 1, 5, 1, 2, 1, 2, 1, 2, 1, 2, 1, 2, 1, 2, 1, 2, 1, 2,\n",
       "       3, 2, 0, 1, 0, 1, 0, 1, 0, 1, 0, 1, 5, 1, 6, 0, 1, 5, 0, 5, 0, 5,\n",
       "       1, 0, 1, 0, 1, 0, 1, 6, 0, 1, 5, 0, 5, 6])"
      ]
     },
     "execution_count": 21,
     "metadata": {},
     "output_type": "execute_result"
    }
   ],
   "source": [
    "X = epochs.get_data()\n",
    "y = epochs.events[:, -1] - 1\n",
    "y"
   ]
  },
  {
   "cell_type": "code",
   "execution_count": 22,
   "metadata": {},
   "outputs": [],
   "source": [
    "le = LabelEncoder()\n",
    "y = le.fit_transform(y)"
   ]
  },
  {
   "cell_type": "code",
   "execution_count": 24,
   "metadata": {},
   "outputs": [],
   "source": [
    "models = [\n",
    "    ('Gradient Boosting', GradientBoostingClassifier(), {'model__n_estimators': [50, 100]}),\n",
    "    ('Linear discriminant analysis', LinearDiscriminantAnalysis(), {'model__solver': ['svd', 'lsqr', 'eigen'], 'model__tol': [0.0001, 0.00001]}),   \n",
    "    ('SVM', SVC(), {'model__C': [0.5, 1, 3], 'model__kernel': ['linear']}),\n",
    "    ('KNN', KNeighborsClassifier(), {'model__n_neighbors': [4,5,6]}),\n",
    "    ('Random Forest', RandomForestClassifier(), {'model__n_estimators': [50,100]}),\n",
    "    ('MLP', MLPClassifier(), {'model__hidden_layer_sizes': [(100, 50), (200, 100)]}),\n",
    "    ('Decision Tree', DecisionTreeClassifier(), {'model__max_depth': [50, 100]}),\n",
    "]"
   ]
  },
  {
   "cell_type": "code",
   "execution_count": 25,
   "metadata": {},
   "outputs": [],
   "source": [
    "shuffle_split = ShuffleSplit(n_splits=7, test_size=0.2, random_state=42)\n",
    "pipelines = []\n",
    "csp = CSP()\n",
    "for name, model, param_grid in models:\n",
    "    pipeline = Pipeline([\n",
    "        ('csp', csp),\n",
    "        ('model', model)\n",
    "    ])\n",
    "    param_grid['csp__n_components'] = [5, 6, 7, 8, 9, 10, 15, 20, 30, 40]\n",
    "    pipelines.append((name, pipeline, param_grid))"
   ]
  },
  {
   "cell_type": "code",
   "execution_count": null,
   "metadata": {},
   "outputs": [],
   "source": [
    "results = []\n",
    "for name, pipeline, param_grid in pipelines:\n",
    "    grid_search = GridSearchCV(pipeline, param_grid=param_grid, cv=shuffle_split, n_jobs=-1)\n",
    "    grid_search.fit(X, y)\n",
    "    results.append((name, grid_search))"
   ]
  },
  {
   "cell_type": "code",
   "execution_count": 27,
   "metadata": {},
   "outputs": [
    {
     "name": "stdout",
     "output_type": "stream",
     "text": [
      "Model: Gradient Boosting\n",
      "Best Parameters: {'csp__n_components': 5, 'model__n_estimators': 50}\n",
      "Best Cross-Validated Accuracy: 0.30\n",
      "\n",
      "\n",
      "Model: Linear discriminant analysis\n",
      "Best Parameters: {'csp__n_components': 5, 'model__solver': 'svd', 'model__tol': 0.0001}\n",
      "Best Cross-Validated Accuracy: 0.33\n",
      "\n",
      "\n",
      "Model: SVM\n",
      "Best Parameters: {'csp__n_components': 5, 'model__C': 1, 'model__kernel': 'linear'}\n",
      "Best Cross-Validated Accuracy: 0.36\n",
      "\n",
      "\n",
      "Model: KNN\n",
      "Best Parameters: {'csp__n_components': 5, 'model__n_neighbors': 5}\n",
      "Best Cross-Validated Accuracy: 0.34\n",
      "\n",
      "\n",
      "Model: Random Forest\n",
      "Best Parameters: {'csp__n_components': 30, 'model__n_estimators': 100}\n",
      "Best Cross-Validated Accuracy: 0.32\n",
      "\n",
      "\n",
      "Model: MLP\n",
      "Best Parameters: {'csp__n_components': 7, 'model__hidden_layer_sizes': (100, 50)}\n",
      "Best Cross-Validated Accuracy: 0.37\n",
      "\n",
      "\n",
      "Model: Decision Tree\n",
      "Best Parameters: {'csp__n_components': 8, 'model__max_depth': 50}\n",
      "Best Cross-Validated Accuracy: 0.29\n",
      "\n",
      "\n"
     ]
    }
   ],
   "source": [
    "res_grid = []\n",
    "for name, grid_search in results:\n",
    "    print(f\"Model: {name}\")\n",
    "    print(f\"Best Parameters: {grid_search.best_params_}\")\n",
    "    print(f\"Best Cross-Validated Accuracy: {grid_search.best_score_:.2f}\")\n",
    "    print(\"\\n\")"
   ]
  },
  {
   "cell_type": "code",
   "execution_count": 37,
   "metadata": {},
   "outputs": [],
   "source": [
    "y = epochs.events[:, -1] - 1\n",
    "y = np.where(y < 6, 0, 1)\n",
    "le = LabelEncoder()\n",
    "y = le.fit_transform(y)"
   ]
  },
  {
   "cell_type": "code",
   "execution_count": null,
   "metadata": {},
   "outputs": [],
   "source": [
    "results = []\n",
    "for name, pipeline, param_grid in pipelines:\n",
    "    grid_search = GridSearchCV(pipeline, param_grid=param_grid, cv=shuffle_split, n_jobs=-1)\n",
    "    grid_search.fit(X, y)\n",
    "    results.append((name, grid_search))"
   ]
  },
  {
   "cell_type": "code",
   "execution_count": 39,
   "metadata": {},
   "outputs": [
    {
     "name": "stdout",
     "output_type": "stream",
     "text": [
      "Model: Gradient Boosting\n",
      "Best Parameters: {'csp__n_components': 6, 'model__n_estimators': 50}\n",
      "Best Cross-Validated Accuracy: 0.89\n",
      "\n",
      "\n",
      "Model: Linear discriminant analysis\n",
      "Best Parameters: {'csp__n_components': 5, 'model__solver': 'svd', 'model__tol': 0.0001}\n",
      "Best Cross-Validated Accuracy: 0.89\n",
      "\n",
      "\n",
      "Model: SVM\n",
      "Best Parameters: {'csp__n_components': 5, 'model__C': 1, 'model__kernel': 'linear'}\n",
      "Best Cross-Validated Accuracy: 0.89\n",
      "\n",
      "\n",
      "Model: KNN\n",
      "Best Parameters: {'csp__n_components': 5, 'model__n_neighbors': 5}\n",
      "Best Cross-Validated Accuracy: 0.90\n",
      "\n",
      "\n",
      "Model: Random Forest\n",
      "Best Parameters: {'csp__n_components': 30, 'model__n_estimators': 100}\n",
      "Best Cross-Validated Accuracy: 0.90\n",
      "\n",
      "\n",
      "Model: MLP\n",
      "Best Parameters: {'csp__n_components': 40, 'model__hidden_layer_sizes': (100, 50)}\n",
      "Best Cross-Validated Accuracy: 0.90\n",
      "\n",
      "\n",
      "Model: Decision Tree\n",
      "Best Parameters: {'csp__n_components': 10, 'model__max_depth': 100}\n",
      "Best Cross-Validated Accuracy: 0.87\n",
      "\n",
      "\n"
     ]
    }
   ],
   "source": [
    "res_grid = []\n",
    "for name, grid_search in results:\n",
    "    print(f\"Model: {name}\")\n",
    "    print(f\"Best Parameters: {grid_search.best_params_}\")\n",
    "    print(f\"Best Cross-Validated Accuracy: {grid_search.best_score_:.2f}\")\n",
    "    print(\"\\n\")"
   ]
  },
  {
   "cell_type": "code",
   "execution_count": 31,
   "metadata": {},
   "outputs": [
    {
     "data": {
      "text/plain": [
       "array([0, 0, 0, 0, 0, 2, 0, 0, 0, 2, 0, 0, 0, 0, 0, 0, 0, 0, 0, 0, 0, 0,\n",
       "       0, 0, 0, 0, 0, 0, 2, 0, 0, 2, 0, 0, 2, 0, 0, 0, 0, 1, 0, 0, 0, 0,\n",
       "       0, 0, 0, 0, 0, 0, 0, 0, 0, 0, 0, 2, 0, 2, 0, 0, 2, 0, 2, 0, 2, 0,\n",
       "       2, 0, 0, 0, 0, 1, 0, 0, 0, 0, 0, 0, 0, 0, 0, 0, 0, 0, 0, 0, 0, 0,\n",
       "       0, 0, 0, 0, 0, 0, 0, 0, 0, 0, 0, 0, 1, 0, 2, 0, 0, 1, 0, 1, 0, 1,\n",
       "       0, 0, 0, 0, 0, 0, 0, 2, 0, 0, 1, 0, 1, 2])"
      ]
     },
     "execution_count": 31,
     "metadata": {},
     "output_type": "execute_result"
    }
   ],
   "source": [
    "# Classify with sleep(1,2,3,4,5), rapidmovement(6), wakefull (7)\n",
    "y = epochs.events[:, -1] - 1\n",
    "\n",
    "# Classify with sleep(0,1,2,3,4), rapidmovement(6), wakefull (7)\n",
    "y = epochs.events[:, -1] - 1\n",
    "y = np.where(y < 5, 0, y)\n",
    "y = np.where(y == 5, 1, y)\n",
    "y = np.where(y == 6, 2, y)\n",
    "le = LabelEncoder()\n",
    "y = le.fit_transform(y)\n",
    "y"
   ]
  },
  {
   "cell_type": "code",
   "execution_count": null,
   "metadata": {},
   "outputs": [],
   "source": [
    "results = []\n",
    "for name, pipeline, param_grid in pipelines:\n",
    "    grid_search = GridSearchCV(pipeline, param_grid=param_grid, cv=shuffle_split, n_jobs=-1)\n",
    "    grid_search.fit(X, y)\n",
    "    results.append((name, grid_search))"
   ]
  },
  {
   "cell_type": "code",
   "execution_count": 33,
   "metadata": {},
   "outputs": [
    {
     "name": "stdout",
     "output_type": "stream",
     "text": [
      "Model: Gradient Boosting\n",
      "Best Parameters: {'csp__n_components': 6, 'model__n_estimators': 50}\n",
      "Best Cross-Validated Accuracy: 0.78\n",
      "\n",
      "\n",
      "Model: Linear discriminant analysis\n",
      "Best Parameters: {'csp__n_components': 5, 'model__solver': 'lsqr', 'model__tol': 0.0001}\n",
      "Best Cross-Validated Accuracy: 0.81\n",
      "\n",
      "\n",
      "Model: SVM\n",
      "Best Parameters: {'csp__n_components': 5, 'model__C': 3, 'model__kernel': 'linear'}\n",
      "Best Cross-Validated Accuracy: 0.81\n",
      "\n",
      "\n",
      "Model: KNN\n",
      "Best Parameters: {'csp__n_components': 5, 'model__n_neighbors': 5}\n",
      "Best Cross-Validated Accuracy: 0.81\n",
      "\n",
      "\n",
      "Model: Random Forest\n",
      "Best Parameters: {'csp__n_components': 5, 'model__n_estimators': 50}\n",
      "Best Cross-Validated Accuracy: 0.81\n",
      "\n",
      "\n",
      "Model: MLP\n",
      "Best Parameters: {'csp__n_components': 5, 'model__hidden_layer_sizes': (100, 50)}\n",
      "Best Cross-Validated Accuracy: 0.81\n",
      "\n",
      "\n",
      "Model: Decision Tree\n",
      "Best Parameters: {'csp__n_components': 15, 'model__max_depth': 50}\n",
      "Best Cross-Validated Accuracy: 0.75\n",
      "\n",
      "\n"
     ]
    }
   ],
   "source": [
    "res_grid = []\n",
    "for name, grid_search in results:\n",
    "    print(f\"Model: {name}\")\n",
    "    print(f\"Best Parameters: {grid_search.best_params_}\")\n",
    "    print(f\"Best Cross-Validated Accuracy: {grid_search.best_score_:.2f}\")\n",
    "    print(\"\\n\")"
   ]
  }
 ],
 "metadata": {
  "kernelspec": {
   "display_name": "Python 3",
   "language": "python",
   "name": "python3"
  },
  "language_info": {
   "codemirror_mode": {
    "name": "ipython",
    "version": 3
   },
   "file_extension": ".py",
   "mimetype": "text/x-python",
   "name": "python",
   "nbconvert_exporter": "python",
   "pygments_lexer": "ipython3",
   "version": "3.8.12"
  }
 },
 "nbformat": 4,
 "nbformat_minor": 2
}
