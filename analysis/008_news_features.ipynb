{
 "cells": [
  {
   "cell_type": "code",
   "execution_count": null,
   "metadata": {},
   "outputs": [],
   "source": [
    "import numpy as np\n",
    "from scipy import stats\n",
    "from entropy import entropy\n",
    "from pywt import wavedec\n",
    "from scipy.signal import welch\n",
    "\n",
    "\n",
    "from sklearn.svm import SVC\n",
    "from sklearn.model_selection import train_test_split\n",
    "from sklearn.metrics import accuracy_score"
   ]
  },
  {
   "cell_type": "code",
   "execution_count": null,
   "metadata": {},
   "outputs": [],
   "source": [
    "\n",
    "\n",
    "# Assuming you have EEG data in epochs (shape: [n_epochs, n_channels, n_samples])\n",
    "features = []\n",
    "\n",
    "for epoch_data in epochs:\n",
    "    # Average Power\n",
    "    avg_power = np.mean(epoch_data ** 2, axis=1)\n",
    "\n",
    "    # Root Mean Square\n",
    "    rms = np.sqrt(np.mean(epoch_data ** 2, axis=1))\n",
    "\n",
    "    # Standard Deviation\n",
    "    std_dev = np.std(epoch_data, axis=1)\n",
    "\n",
    "    # Variance\n",
    "    variance = np.var(epoch_data, axis=1)\n",
    "\n",
    "    # Entropy\n",
    "    entropy_values = []\n",
    "    for channel_data in epoch_data:\n",
    "        entropy_values.append(entropy(channel_data))\n",
    "\n",
    "    # Discrete Wavelet Transform (DWT)\n",
    "    dwt_coefficients = []\n",
    "    for channel_data in epoch_data:\n",
    "        coeffs = wavedec(channel_data, 'db4', level=4)  # Adjust wavelet and level as needed\n",
    "        dwt_coefficients.append(np.hstack(coeffs))\n",
    "\n",
    "    # Power Spectral Density (PSD)\n",
    "    freqs, psd = welch(epoch_data, fs=epochs.info['sfreq'], nperseg=256)  # Adjust nperseg as needed\n",
    "\n",
    "    # Combine all features for this epoch\n",
    "    epoch_features = np.hstack([avg_power, rms, std_dev, variance, entropy_values, np.array(dwt_coefficients).flatten(), psd.flatten()])\n",
    "\n",
    "    features.append(epoch_features)\n",
    "\n",
    "features = np.array(features)\n"
   ]
  },
  {
   "cell_type": "code",
   "execution_count": null,
   "metadata": {},
   "outputs": [],
   "source": [
    "\n",
    "\n",
    "X_train, X_test, y_train, y_test = train_test_split(features, labels, test_size=0.2, random_state=42)\n",
    "\n",
    "svm_model = SVC(kernel='linear')\n",
    "svm_model.fit(X_train, y_train)\n",
    "\n",
    "y_pred = svm_model.predict(X_test)\n",
    "accuracy = accuracy_score(y_test, y_pred)\n",
    "print(f'Accuracy: {accuracy * 100:.2f}%')\n"
   ]
  }
 ],
 "metadata": {
  "language_info": {
   "name": "python"
  },
  "orig_nbformat": 4
 },
 "nbformat": 4,
 "nbformat_minor": 2
}
