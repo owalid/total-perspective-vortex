{
 "cells": [
  {
   "cell_type": "markdown",
   "metadata": {},
   "source": [
    "## Epochs\n",
    "\n",
    "In the MNE-Python library, an \"epoch\" refers to a specific time interval of continuous EEG or MEG data that is extracted for further analysis. The concept of epochs is particularly relevant when dealing with event-related potentials (ERPs) or event-related fields (ERFs) in EEG or MEG data analysis. Epochs allow you to focus on specific segments of data around events of interest.\n",
    "\n",
    "- Get Events: Before creating epochs, you typically need to define events in your data. Events are time points that mark specific occurrences, such as the onset of a stimulus or the occurrence of a response.\n",
    "\n",
    "- Creating Epochs: Once events are defined, you can create epochs by extracting data around each event. An epoch is a time window that includes a certain duration of data before and after the event. This time window is defined using parameters such as the baseline period, the time before the event, and the time after the event.\n",
    "\n",
    "-  Storing Data: Epochs are stored as multi-dimensional arrays with dimensions for channels, time points, and epochs. This format allows for efficient storage and analysis of the segmented data.\n",
    "\n",
    "- Applying Analysis: You can apply various analyses to the epochs, such as computing the average ERP, comparing conditions, and conducting statistical analyses."
   ]
  },
  {
   "cell_type": "code",
   "execution_count": null,
   "metadata": {},
   "outputs": [],
   "source": [
    "# get events\n",
    "events, event_dict = mne.events_from_annotations(original_raw)\n",
    "event_dict"
   ]
  },
  {
   "cell_type": "code",
   "execution_count": null,
   "metadata": {},
   "outputs": [],
   "source": [
    "# create epochs from events\n",
    "tmin = -1  # Time before event in seconds\n",
    "tmax = 4   # Time after event in seconds\n",
    "epochs = mne.Epochs(original_raw, events, event_dict, tmin, tmax, baseline=None, preload=True, proj=True, picks=picks)\n",
    "epochs"
   ]
  },
  {
   "cell_type": "markdown",
   "metadata": {},
   "source": [
    "todo: add graph for epochs"
   ]
  }
 ],
 "metadata": {
  "language_info": {
   "name": "python"
  },
  "orig_nbformat": 4
 },
 "nbformat": 4,
 "nbformat_minor": 2
}
