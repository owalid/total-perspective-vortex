{
 "cells": [
  {
   "cell_type": "code",
   "execution_count": null,
   "metadata": {},
   "outputs": [],
   "source": []
  },
  {
   "cell_type": "code",
   "execution_count": null,
   "metadata": {},
   "outputs": [],
   "source": [
    "from memd import MEMD\n",
    "\n",
    "memd = MEMD()\n",
    "imfs, _ = memd.eemd(raw.get_data(), num_imfs=6)  # Adjust num_imfs as needed\n"
   ]
  },
  {
   "cell_type": "code",
   "execution_count": null,
   "metadata": {},
   "outputs": [],
   "source": [
    "# Import necessary libraries for SUTCCSP\n",
    "from pyriemann.estimation import Covariances\n",
    "from pyriemann.tangentspace import TangentSpace\n",
    "from pyriemann.classification import MDM\n",
    "from sklearn.model_selection import train_test_split\n",
    "from sklearn.metrics import accuracy_score\n",
    "\n",
    "# Assuming you have labels for your data\n",
    "labels = [0, 1, 0, 1, ...]  # Replace with your actual labels\n",
    "\n",
    "# Stack the IMFs to create multichannel data\n",
    "multichannel_data = np.stack(imfs, axis=1)\n",
    "\n",
    "# Perform SUTCCSP\n",
    "cov = Covariances()\n",
    "covariances = cov.fit_transform(multichannel_data, labels)\n",
    "ts = TangentSpace()\n",
    "features = ts.fit_transform(covariances)\n",
    "\n",
    "# Split the data into training and testing sets\n",
    "X_train, X_test, y_train, y_test = train_test_split(features, labels, test_size=0.2, random_state=42)\n",
    "\n",
    "# Apply a classifier (e.g., MDM) to classify the extracted features\n",
    "mdm = MDM()\n",
    "mdm.fit(X_train, y_train)\n",
    "\n",
    "# Predict labels on the test set\n",
    "predictions = mdm.predict(X_test)\n",
    "\n",
    "# Calculate accuracy\n",
    "accuracy = accuracy_score(y_test, predictions)\n",
    "print(f'Accuracy: {accuracy * 100:.2f}%')\n"
   ]
  }
 ],
 "metadata": {
  "language_info": {
   "name": "python"
  },
  "orig_nbformat": 4
 },
 "nbformat": 4,
 "nbformat_minor": 2
}
