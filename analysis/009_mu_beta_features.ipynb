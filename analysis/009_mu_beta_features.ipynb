{
 "cells": [
  {
   "cell_type": "code",
   "execution_count": null,
   "metadata": {},
   "outputs": [],
   "source": []
  },
  {
   "cell_type": "code",
   "execution_count": null,
   "metadata": {},
   "outputs": [],
   "source": [
    "import pywt\n",
    "\n",
    "# Define the wavelet decomposition parameters\n",
    "wavelet = 'morl'  # Choose a wavelet (e.g., 'morl')\n",
    "level = 5  # Adjust the decomposition level as needed\n",
    "\n",
    "# Perform wavelet decomposition on EEG data\n",
    "coeffs = pywt.wavedec(raw.get_data(), wavelet, level=level)\n",
    "mu_rhythm = coeffs[level][0]  # Mu rhythm (8-13 Hz)\n",
    "beta_rhythm = coeffs[level][1]  # Beta rhythm (13-30 Hz)\n"
   ]
  },
  {
   "cell_type": "code",
   "execution_count": null,
   "metadata": {},
   "outputs": [],
   "source": [
    "import numpy as np\n",
    "\n",
    "# Example feature extraction (mean and variance)\n",
    "mu_mean = np.mean(mu_rhythm, axis=1)\n",
    "mu_variance = np.var(mu_rhythm, axis=1)\n",
    "\n",
    "beta_mean = np.mean(beta_rhythm, axis=1)\n",
    "beta_variance = np.var(beta_rhythm, axis=1)\n",
    "\n",
    "# Concatenate features\n",
    "features = np.column_stack((mu_mean, mu_variance, beta_mean, beta_variance))\n"
   ]
  },
  {
   "cell_type": "code",
   "execution_count": null,
   "metadata": {},
   "outputs": [],
   "source": [
    "# Example labels (replace with your actual labels)\n",
    "labels = [0, 1, 0, 1, ...]  # Binary classification, 0 or 1\n"
   ]
  },
  {
   "cell_type": "code",
   "execution_count": null,
   "metadata": {},
   "outputs": [],
   "source": [
    "from sklearn.model_selection import train_test_split\n",
    "\n",
    "X_train, X_test, y_train, y_test = train_test_split(features, labels, test_size=0.2, random_state=42)\n"
   ]
  },
  {
   "cell_type": "code",
   "execution_count": null,
   "metadata": {},
   "outputs": [],
   "source": [
    "from sklearn.naive_bayes import GaussianNB\n",
    "from sklearn.metrics import accuracy_score\n",
    "\n",
    "# Create and train the Naive Bayes classifier\n",
    "nb_classifier = GaussianNB()\n",
    "nb_classifier.fit(X_train, y_train)\n",
    "\n",
    "# Predict labels on the test set\n",
    "nb_predictions = nb_classifier.predict(X_test)\n",
    "\n",
    "# Calculate accuracy\n",
    "nb_accuracy = accuracy_score(y_test, nb_predictions)\n",
    "print(f'Naive Bayes Accuracy: {nb_accuracy * 100:.2f}%')\n"
   ]
  },
  {
   "cell_type": "code",
   "execution_count": null,
   "metadata": {},
   "outputs": [],
   "source": [
    "from sklearn.neural_network import MLPClassifier\n",
    "\n",
    "# Create and train the ANN classifier\n",
    "ann_classifier = MLPClassifier(hidden_layer_sizes=(100, 50), max_iter=500, activation='relu', random_state=42)\n",
    "ann_classifier.fit(X_train, y_train)\n",
    "\n",
    "# Predict labels on the test set\n",
    "ann_predictions = ann_classifier.predict(X_test)\n",
    "\n",
    "# Calculate accuracy\n",
    "ann_accuracy = accuracy_score(y_test, ann_predictions)\n",
    "print(f'ANN Accuracy: {ann_accuracy * 100:.2f}%')\n"
   ]
  }
 ],
 "metadata": {
  "language_info": {
   "name": "python"
  },
  "orig_nbformat": 4
 },
 "nbformat": 4,
 "nbformat_minor": 2
}
